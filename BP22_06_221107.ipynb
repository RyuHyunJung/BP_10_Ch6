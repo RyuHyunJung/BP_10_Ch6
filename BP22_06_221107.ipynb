{
  "nbformat": 4,
  "nbformat_minor": 0,
  "metadata": {
    "colab": {
      "provenance": [],
      "authorship_tag": "ABX9TyM3h6BSL81+6znXIo60kaic",
      "include_colab_link": true
    },
    "kernelspec": {
      "name": "python3",
      "display_name": "Python 3"
    },
    "language_info": {
      "name": "python"
    }
  },
  "cells": [
    {
      "cell_type": "markdown",
      "metadata": {
        "id": "view-in-github",
        "colab_type": "text"
      },
      "source": [
        "<a href=\"https://colab.research.google.com/github/RyuHyunJung/BP_10_Ch6/blob/main/BP22_06_221107.ipynb\" target=\"_parent\"><img src=\"https://colab.research.google.com/assets/colab-badge.svg\" alt=\"Open In Colab\"/></a>"
      ]
    },
    {
      "cell_type": "code",
      "execution_count": null,
      "metadata": {
        "colab": {
          "base_uri": "https://localhost:8080/"
        },
        "id": "lPimzEOw8ReD",
        "outputId": "b0aa5894-972b-4f09-8e9d-df4af492d91a"
      },
      "outputs": [
        {
          "output_type": "stream",
          "name": "stdout",
          "text": [
            "2 4 6 8 10 12 14 16 18 20 22 24 26 28 30 32 34 36 38 40 42 44 46 48 50 52 54 56 58 60 62 64 66 68 70 72 74 76 78 80 82 84 86 88 90 92 94 96 98 100 "
          ]
        }
      ],
      "source": [
        "for i in range(2, 101):       # 2에서 100까지의 숫자를 볂한한다.\n",
        "  if i%2==0 :                 # i%2 == 0 i는 짝수 \n",
        "    print(i,end = \" \")"
      ]
    },
    {
      "cell_type": "code",
      "source": [
        "year = 0\n",
        "balance = 1000\n",
        "\n",
        "while balance <= 2000 :\n",
        "  year = year + 1\n",
        "  interest = balance * 0.07\n",
        "  balance = balance + interest\n",
        "print(year, \"년이 걸립니다.\")"
      ],
      "metadata": {
        "colab": {
          "base_uri": "https://localhost:8080/"
        },
        "id": "PIDNgPD19fHs",
        "outputId": "4a454709-60d9-46bd-9e42-f47c8a239b2f"
      },
      "execution_count": null,
      "outputs": [
        {
          "output_type": "stream",
          "name": "stdout",
          "text": [
            "11 년이 걸립니다.\n"
          ]
        }
      ]
    },
    {
      "cell_type": "code",
      "source": [
        "n = 1234\n",
        "sum = 0\n",
        "while n > 0 :\n",
        "  digit = n % 10           # %는 나머지, //는 나눗셈에서 몫\n",
        "  sum = sum + digit\n",
        "  n = n // 10\n",
        "print(sum)"
      ],
      "metadata": {
        "colab": {
          "base_uri": "https://localhost:8080/"
        },
        "id": "s3GKhrOr-Ohl",
        "outputId": "8948d652-4442-41fa-cd29-5a46900337bb"
      },
      "execution_count": null,
      "outputs": [
        {
          "output_type": "stream",
          "name": "stdout",
          "text": [
            "10\n"
          ]
        }
      ]
    },
    {
      "cell_type": "code",
      "source": [
        "ans = 0\n",
        "while ans != 3*9:              # 어떤 조건이 만족될 때까지 반복하는 것은 while 루프\n",
        "  ans = int(input(\"3*9는\"))\n",
        "\n",
        "print(\"맞았습니다.\")"
      ],
      "metadata": {
        "colab": {
          "base_uri": "https://localhost:8080/"
        },
        "id": "M9yRe0Yq_B9g",
        "outputId": "d1e05fe0-891b-47c0-fa21-806c6884dcb3"
      },
      "execution_count": null,
      "outputs": [
        {
          "output_type": "stream",
          "name": "stdout",
          "text": [
            "3*9는8\n",
            "3*9는9\n",
            "3*9는27\n",
            "맞았습니다.\n"
          ]
        }
      ]
    },
    {
      "cell_type": "code",
      "source": [
        "sum = 0\n",
        "while True:\n",
        "  x = int(input(\"정수를 입력하시오: \"))\n",
        "  if x == 0:\n",
        "    break;\n",
        "  sum = sum + x\n",
        "\n",
        "print(\"합은 \", sum, \"입니다.\")"
      ],
      "metadata": {
        "colab": {
          "base_uri": "https://localhost:8080/"
        },
        "id": "N6GNh_5sAnhk",
        "outputId": "7d4cb199-033b-4ec4-9875-b3294fde3f93"
      },
      "execution_count": null,
      "outputs": [
        {
          "output_type": "stream",
          "name": "stdout",
          "text": [
            "정수를 입력하시오: 1\n",
            "정수를 입력하시오: 2\n",
            "정수를 입력하시오: 3\n",
            "정수를 입력하시오: 0\n",
            "합은  6 입니다.\n"
          ]
        }
      ]
    },
    {
      "cell_type": "code",
      "source": [
        "from random import randint\n",
        "\n",
        "for i in range(3) :        # 3번 빈복한다.\n",
        "  d1 = randint(1, 6)       # 1부터 6 사이의 난수를 발생한다.\n",
        "  d2 = randint(1, 6)\n",
        "  print(\"첫번째 주사위=\", d1, \"두번째 주사위=\", d2)"
      ],
      "metadata": {
        "colab": {
          "base_uri": "https://localhost:8080/"
        },
        "id": "S_y4VjlFBORT",
        "outputId": "7747ab35-7242-4a52-ef3e-7e348eaffaae"
      },
      "execution_count": null,
      "outputs": [
        {
          "output_type": "stream",
          "name": "stdout",
          "text": [
            "첫번째 주사위= 6 두번째 주사위= 4\n",
            "첫번째 주사위= 5 두번째 주사위= 5\n",
            "첫번째 주사위= 4 두번째 주사위= 4\n"
          ]
        }
      ]
    },
    {
      "cell_type": "code",
      "source": [
        "import turtle          # 터틀 그래픽 모듈을 불러온다.\n",
        "\n",
        "t = turtle.Turtle()\n",
        "t.shape(\"turtle\")\n",
        "t.left(90)\n",
        "\n",
        "for i in range (1,7):\n",
        "  t.forward(100)\n",
        "  t.forward(-30)\n",
        "  t.left(60)\n",
        "  t.forward(30)\n",
        "  t.forward(-30)\n",
        "\n",
        "  t.right(120)\n",
        "  t.forward(30)\n",
        "  t.forward(-30)\n",
        "\n",
        "  t.left(60)\n",
        "  t.forward(-70)\n",
        "  t.left(60)"
      ],
      "metadata": {
        "id": "bH-NsUKpCGNR"
      },
      "execution_count": null,
      "outputs": []
    },
    {
      "cell_type": "code",
      "source": [
        "import turtle\n",
        "\n",
        "myPen = turtle.Turtle()\n",
        "myPen.speed(0)\n",
        "myPen.color(\"#FF0000\")\n",
        "\n",
        "for j in range (1, 10):\n",
        "  for i in range (1, 6):\n",
        "    myPen.left(144)\n",
        "    myPen.forward(200)\n",
        "  myPen.left(10)"
      ],
      "metadata": {
        "id": "wyqaoM_6EP3C"
      },
      "execution_count": null,
      "outputs": []
    },
    {
      "cell_type": "code",
      "source": [
        "import turtle            # 터틀 그래픽 모듈을 불러온다.\n",
        "import random            # 난수 모듈을 불러온다.\n",
        "\n",
        "t = turtle.Turtle()\n",
        "t.shape(\"turtle\")\n",
        "\n",
        "for j in range (1, 10):\n",
        "  t.up()\n",
        "  x = random.randint(-200, 200)            # -200부터 200 사이의 정수 난수를 발생한다.\n",
        "  y = random.randint(-200, 200)\n",
        "  r = random.randint(10, 200)\n",
        "  t.goto(x, y)\n",
        "  t.down()\n",
        "  t.circle(r)"
      ],
      "metadata": {
        "id": "Ipv3G-WiFQZ_"
      },
      "execution_count": null,
      "outputs": []
    },
    {
      "cell_type": "code",
      "source": [
        "import turtle\n",
        "\n",
        "t = turtle.Turtle()\n",
        "t.shape(\"turtle\")\n",
        "\n",
        "for i in range(5):\n",
        "  t.forward(200);\n",
        "  t.right(90)\n",
        "  t.forward(20);\n",
        "  t.right(90)\n",
        "  t.forward(200);\n",
        "  t.left(90)\n",
        "  t.forward(20);\n",
        "  t.left(90)"
      ],
      "metadata": {
        "id": "YGwQD4-xGX6-"
      },
      "execution_count": null,
      "outputs": []
    },
    {
      "cell_type": "code",
      "source": [
        "import turtle\n",
        "t = turtle.Turtle()\n",
        "t.shape(\"turtle\")\n",
        "t.color('red', 'yellow')         # 거북이 펜의 색상을 변경한다.\n",
        "t.begin_fill()                   # 채워진 다각형을 시작한다.\n",
        "while True:\n",
        "  t.forward(200)\n",
        "  t.left(170)\n",
        "  if abs(t.pos()) < 1:\n",
        "    break\n",
        "t.end_fill()                     # 채워진 다각형을 닫는다."
      ],
      "metadata": {
        "id": "ZNQq7qi_HKII"
      },
      "execution_count": null,
      "outputs": []
    },
    {
      "cell_type": "code",
      "source": [
        "import turtle\n",
        "import math\n",
        "\n",
        "t = turtle.Turtle()\n",
        "t.shape(\"turtle\")\n",
        "t.color('red', 'yellow')\n",
        "\n",
        "for x in range(0, 360):\n",
        "  t.goto(x,200*math.sin(x*3.14/180))"
      ],
      "metadata": {
        "id": "3fzILtpN7ra0"
      },
      "execution_count": null,
      "outputs": []
    }
  ]
}